{
 "cells": [
  {
   "cell_type": "markdown",
   "metadata": {},
   "source": [
    "# Identación\n",
    "\n",
    "**¿Qué es la identación?** \n",
    "\n",
    "En Python, la identación es lo que la sangría al lenguaje escrito. Cuando uno redacta un documento debe respetar ciertas sangrías; en Python se requiere una identación, la cual es obligatoria, ya que de ella dependé su estructura, además de que le proporciona legelibilida.\n",
    "\n",
    "*La identación permite escribir estructuras de control legibles, se requiere de una identación de cuatro espacios en blanco para indicar que las instrucciones identadas forman parte de una misma estructura de control.*\n",
    "\n",
    "**sintaxis\n",
    "\n",
    "```\n",
    "estructura de control:    \n",
    "    expresión 1\n",
    "    expresión 2\n",
    "         .\n",
    "         .\n",
    "         .\n",
    "    expresión n\n",
    "```\n",
    "\n",
    "\n",
    "\n",
    "    "
   ]
  },
  {
   "cell_type": "code",
   "execution_count": null,
   "metadata": {},
   "outputs": [],
   "source": []
  }
 ],
 "metadata": {
  "kernelspec": {
   "display_name": "Python 2",
   "language": "python",
   "name": "python2"
  },
  "language_info": {
   "codemirror_mode": {
    "name": "ipython",
    "version": 2
   },
   "file_extension": ".py",
   "mimetype": "text/x-python",
   "name": "python",
   "nbconvert_exporter": "python",
   "pygments_lexer": "ipython2",
   "version": "2.7.15"
  },
  "latex_envs": {
   "LaTeX_envs_menu_present": true,
   "autoclose": true,
   "autocomplete": true,
   "bibliofile": "biblio.bib",
   "cite_by": "apalike",
   "current_citInitial": 1,
   "eqLabelWithNumbers": true,
   "eqNumInitial": 1,
   "hotkeys": {
    "equation": "Ctrl-E",
    "itemize": "Ctrl-I"
   },
   "labels_anchors": false,
   "latex_user_defs": false,
   "report_style_numbering": true,
   "user_envs_cfg": false
  },
  "toc": {
   "base_numbering": 1,
   "nav_menu": {},
   "number_sections": true,
   "sideBar": true,
   "skip_h1_title": false,
   "title_cell": "Table of Contents",
   "title_sidebar": "Contents",
   "toc_cell": false,
   "toc_position": {},
   "toc_section_display": true,
   "toc_window_display": false
  }
 },
 "nbformat": 4,
 "nbformat_minor": 2
}
