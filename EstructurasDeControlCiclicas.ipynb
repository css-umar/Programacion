{
 "cells": [
  {
   "cell_type": "markdown",
   "metadata": {},
   "source": [
    "# Estructuras de control cíclicas\n",
    "\n",
    "Este tipo de estructuras permiten ejecutar de manera repetida una sección de intrucciones, mientras se cumpla una condición.\n",
    "\n",
    "_Python_ dispone del ciclo **while** y del **for**:\n",
    "\n",
    "## Ciclo while (mientras)\n",
    "\n",
    "Ejecuta una sección de instrucciones mientras que una determinada condición (expresión lógica) se cumpla; se pueden construir los siguientes tipos de ciclo _while_:\n",
    "\n",
    "**Controlado por conteo**\n",
    "\n",
    "**Controlado por evento**\n",
    "\n",
    "**Combinado con la sentencia else**\n",
    "\n",
    "1. Ciclo while controlado por conteo:\n",
    "> **Sintaxis:**\n",
    "\n",
    "~~~\n",
    "contador = valor_inicial\n",
    "while contador expresión_logica:\n",
    "    instrucción_1\n",
    "    instrucción_2\n",
    "    instrucción_n\n",
    "    contador = contador + incremento\n",
    "~~~\n",
    "\n",
    "2. Ciclo while controlado por evento\n",
    "> **Sintaxis**\n",
    "\n",
    "~~~\n",
    "evento = valor_inicial\n",
    "while evento expresión_lógica:\n",
    "    instrucción_1\n",
    "    instrucción_2\n",
    "    instrucción_n\n",
    "    evento = nuevo_valor\n",
    "~~~\n",
    "\n",
    "3. Ciclo while combinado con la sentencia _else_.\n",
    "> **Sintaxis**\n",
    "\n",
    "~~~\n",
    "evento = valor_inicial\n",
    "while evento expresión_lógica:\n",
    "    instrucción_1\n",
    "    instrucción_2\n",
    "    instrucción_n\n",
    "    evento = nuevo_valor\n",
    "else:\n",
    "    instrucción_1\n",
    "    instrucción_2\n",
    "    instrucción_n\n",
    "~~~\n",
    "\n",
    "## Ciclo for (para)\n",
    "\n",
    "Esta estructura permite iterar sobre elementos o unidades que forman parte de un conjunto (listas, tuplas o cadenas de caracteres) en la misma secuencia en que están ordenados. Dependiendo del conjunto sobre el que se quiere iterar, se pueden construir los siguientes tipos de ciclo _for_:\n",
    "\n",
    "**Con listas**\n",
    "\n",
    "**Con listas y la función range (intervalo, serie) y len ()**\n",
    "\n",
    "**Con tuplas**\n",
    "\n",
    "**Con diccionarios**\n",
    "\n",
    "**Con la sentencia else**\n",
    "\n",
    "1. Ciclo for con listas.\n",
    "\n",
    "> **Sintaxis**\n",
    "\n",
    "~~~\n",
    "lista = [elemento_1, elemento_2,...,elemento_n]\n",
    "for variable in lista:\n",
    "    instrucción_1\n",
    "    instrucción_2\n",
    "    instrucción_n    \n",
    "~~~\n",
    "\n",
    "2. Ciclo for con listas y la función range y len.\n",
    "\n",
    "> **Sintaxis**\n",
    "\n",
    "~~~\n",
    "lista = [elemento_1, elemento_2,...,elemento_n]\n",
    "for variable in range(len(lista)):\n",
    "    instrucción_1\n",
    "    instrucción_2\n",
    "    instrucción_n    \n",
    "~~~\n",
    "\n",
    "3. Ciclo for con tuplas.\n",
    "\n",
    "> **Sintaxis**\n",
    "\n",
    "~~~\n",
    "tupla = (elemento_1, elemento_2,...,elemento_n)\n",
    "for variable in tupla:\n",
    "    instrucción_1\n",
    "    instrucción_2\n",
    "    instrucción_n    \n",
    "~~~\n",
    "\n",
    "4. Ciclo for con diccionarios.\n",
    "\n",
    "> **Sintaxis**\n",
    "\n",
    "~~~\n",
    "diccionario = {\n",
    "    \"clave_1\": datos_1 \n",
    "    \"clave_2\": datos_2\n",
    "    \"clave_n\": datos_n\n",
    "    }\n",
    "clave = diccionario.keys()  # Devuelve una lista de las claves [\"clave_1\", \"clave_2\",\"clave_n\"]\n",
    "valor = diccionario.values()  # Devuelve una lista de los datos [\"datos_1\", \"datos_2\",\"datos_n\"]\n",
    "cantidad_datos = diccionario.items()  # Develve una lista de los elementos del diccionario\n",
    "for clave, valor in cantidad_datos:\n",
    "    instrucción_1\n",
    "    instrucción_2\n",
    "    instrucción_n    \n",
    "~~~\n",
    "\n",
    "5. Ciclo for con la sentencia else.\n",
    "\n",
    "> **Sintaxis**\n",
    "\n",
    "~~~\n",
    "lista = [elemento_1, elemento_2,...,elemento_n]\n",
    "for variable in lista:\n",
    "    instrucción_1\n",
    "    instrucción_2\n",
    "    instrucción_n\n",
    "else:\n",
    "    instrucción_1\n",
    "    instrucción_2\n",
    "    instrucción_n\n",
    "~~~\n"
   ]
  },
  {
   "cell_type": "markdown",
   "metadata": {},
   "source": [
    "### Ejemplo de la estructura while controlado por conteo:\n",
    "\n",
    "Dados los n números $ \\{ x_{1},x_{2},\\ldots ,x_{n} \\} $, la media aritmética se define como:\n",
    "\n",
    "$$\\bar {x} = \\frac{1}{n}\\sum_{i=1}^{n}{x_i}=\\dfrac{x_1+x_2+\\ldots+x_n}{n} $$ \n",
    "\n",
    "**Escribir un programa que calcule la media aritmética de $n$ números.**\n",
    "\n",
    "> ¿Qué se requiere para calcular la media aritmética?\n",
    "\n",
    ">> Se requiere el número de elementos $(n)$ que componen la serie de datos.\n",
    "\n",
    "> ¿Qué tipos de datos se ocupan para calcular la media aritmética?\n",
    "\n",
    ">> Se ocupan datos numéricos, del tipo _int_ para $n$, y del tipo _float_ para los elementos de la serie de datos."
   ]
  },
  {
   "cell_type": "code",
   "execution_count": 6,
   "metadata": {},
   "outputs": [
    {
     "name": "stdout",
     "output_type": "stream",
     "text": [
      "¿Cuantos elmentos componen tus datos?\n",
      "3\n",
      "('Introduce el elemento', ' ', 1)\n",
      "10\n",
      "('Introduce el elemento', ' ', 2)\n",
      "10\n",
      "('Introduce el elemento', ' ', 3)\n",
      "10\n",
      "10.0\n"
     ]
    }
   ],
   "source": [
    "\"\"\"\n",
    "SEUDOCÓDIGO\n",
    "Algoritmo media_aritmetica\n",
    "\tEscribir \"¿Cuántos elmentos componen tus datos?\"\n",
    "\tLeer n\n",
    "\tcontador <- 1\n",
    "\tsuma <- 0\n",
    "\tMientras contador <= n Hacer\n",
    "\t\tEscribir \"Introduce el elemento\", contador\n",
    "\t\tLeer elemento\n",
    "\t\tsuma <- suma + elemento\n",
    "\t\tcontador <- contador + 1\n",
    "\tFin Mientras\n",
    "\t\n",
    "\tprom <- suma / n\n",
    "\tEscribir prom\n",
    "\t\n",
    "FinAlgoritmo\n",
    "\"\"\"\n",
    "# CODIGO PYTHON\n",
    "print (\"¿Cuantos elmentos componen tus datos?\")\n",
    "N = int(raw_input())\n",
    "contador = 1\n",
    "suma = 0.0\n",
    "while contador <= N:\n",
    "    print(\"Introduce el elemento\",\" \", contador)\n",
    "    elemento = float(raw_input())\n",
    "    suma = suma + elemento\n",
    "    contador = contador + 1\n",
    "\n",
    "prom = suma / N\n",
    "print(prom)"
   ]
  },
  {
   "cell_type": "markdown",
   "metadata": {},
   "source": [
    "### Ejemplo de la estructura while controlado por evento\n",
    "\n",
    "Escribir un programa que calcule e imprima la suma de tres números; una vez impreso el resultado preguntar al usuario si requiere hacer la suma nuevamente."
   ]
  },
  {
   "cell_type": "code",
   "execution_count": 7,
   "metadata": {},
   "outputs": [
    {
     "name": "stdout",
     "output_type": "stream",
     "text": [
      "Introduce el primer número\n",
      "8\n",
      "Introduce el segundo número\n",
      "9\n",
      "Introduce el tercer número\n",
      "10\n",
      "('La suma es', ' ', 27.0)\n",
      "¿Quieres realizar la suma nuevamente?\n",
      "En caso afirmativo teclea 1, de lo contrario cualquier otra tecla\n",
      "9\n"
     ]
    }
   ],
   "source": [
    "\"\"\"\n",
    "Algoritmo suma_tres_numeros\n",
    "\t\n",
    "\tresp <- 1\n",
    "\t\n",
    "\tMientras resp == 1 Hacer\n",
    "\t\tEscribir \"Introduce el primer número\"\n",
    "\t\tLeer num1\n",
    "\t\tEscribir \"Introduce el segundo número\"\n",
    "\t\tLeer num2\n",
    "\t\tEscribir \"Introduce el tercer número\"\n",
    "\t\tLeer num3\n",
    "\t\t\n",
    "\t\tsuma <- num1 + num2 + num3\n",
    "\t\t\n",
    "\t\tEscribir \"La suma es\", \" \", suma\n",
    "\t\t\n",
    "\t\tEscribir \"¿Quieres realizar la suma nuevamente?\"\n",
    "\t\tEscribir \"En caso afirmativo teclea 1, de lo contrario cualquier otra tecla\"\n",
    "\t\tLeer resp\t\t\n",
    "\tFin Mientras\t\n",
    "\t\n",
    "FinAlgoritmo\n",
    "\n",
    "\"\"\"\n",
    "\n",
    "resp = 1\n",
    "while resp == 1:\n",
    "    print(\"Introduce el primer número\")\n",
    "    num1 = float(raw_input())\n",
    "    print(\"Introduce el segundo número\")\n",
    "    num2 = float(raw_input())\n",
    "    print(\"Introduce el tercer número\")\n",
    "    num3 = float(raw_input())\n",
    "    \n",
    "    suma = num1 + num2 + num3\n",
    "    print(\"La suma es\", ' ', suma)\n",
    "    \n",
    "    print(\"¿Quieres realizar la suma nuevamente?\")\n",
    "    print(\"En caso afirmativo teclea 1, de lo contrario cualquier otra tecla\")\n",
    "    resp = int(raw_input())"
   ]
  },
  {
   "cell_type": "markdown",
   "metadata": {},
   "source": [
    "### Ejemplo de la estructura while combinado con la sentencia else.\n",
    "\n",
    "Escriba un programa que calcule tu promedio de calificaciones. El programa debe pedir tu calificación en cada ciclo, una vez termines de intriducir tus datos, el programa debe calcular el promedio."
   ]
  },
  {
   "cell_type": "code",
   "execution_count": 5,
   "metadata": {},
   "outputs": [
    {
     "name": "stdout",
     "output_type": "stream",
     "text": [
      "¿Introduciendo tu calificación?\n",
      "Teclea -1 para terminar y calcular tu promedio\n",
      "9\n",
      "¿Introduciendo tu calificación?\n",
      "Teclea -1 para terminar y calcular tu promedio\n",
      "8\n",
      "¿Introduciendo tu calificación?\n",
      "Teclea -1 para terminar y calcular tu promedio\n",
      "10\n",
      "¿Introduciendo tu calificación?\n",
      "Teclea -1 para terminar y calcular tu promedio\n",
      "-1\n",
      "Tu promedio es:9.0\n"
     ]
    }
   ],
   "source": [
    "cal = 0.0\n",
    "contador = 0\n",
    "suma = 0.0\n",
    "while cal != -1:\n",
    "    suma = suma + cal\n",
    "    contador = contador + 1  \n",
    "    print(\"¿Introduciendo tu calificación?\")\n",
    "    print(\"Teclea -1 para terminar y calcular tu promedio\")\n",
    "    cal = float(raw_input())      \n",
    "    \n",
    "else:\n",
    "    promedio = suma / (contador - 1)\n",
    "    print (\"Tu promedio es:\" + str(promedio))\n"
   ]
  },
  {
   "cell_type": "markdown",
   "metadata": {},
   "source": [
    "### Ejemplo de ciclo for con listas"
   ]
  },
  {
   "cell_type": "code",
   "execution_count": 8,
   "metadata": {},
   "outputs": [
    {
     "name": "stdout",
     "output_type": "stream",
     "text": [
      "1\n",
      "2\n",
      "3\n",
      "4\n",
      "5\n",
      "6\n",
      "7\n",
      "8\n",
      "9\n",
      "10\n"
     ]
    }
   ],
   "source": [
    "lista1 = [1,2,3,4,5,6,7,8,9,10]\n",
    "for i in lista1:\n",
    "    print i"
   ]
  },
  {
   "cell_type": "code",
   "execution_count": 9,
   "metadata": {},
   "outputs": [
    {
     "name": "stdout",
     "output_type": "stream",
     "text": [
      "Fulano\n",
      "Zutano\n",
      "Perengano\n",
      "Mengano\n"
     ]
    }
   ],
   "source": [
    "lista2=[\"Fulano\",\"Zutano\", \"Perengano\", \"Mengano\"]\n",
    "for i in lista2:\n",
    "    print i"
   ]
  },
  {
   "cell_type": "markdown",
   "metadata": {},
   "source": [
    "### Ejemplo de ciclo for con listas y la función range y len"
   ]
  },
  {
   "cell_type": "code",
   "execution_count": 21,
   "metadata": {},
   "outputs": [
    {
     "name": "stdout",
     "output_type": "stream",
     "text": [
      "('Elementos lista1=10', 'Elementos lista2=4')\n"
     ]
    }
   ],
   "source": [
    "\"\"\"\n",
    "La función len(Nombre_Lista) devuelve el número de elementos de la lista, \n",
    "por ejemplo, la lista1 tiene diez elementos, mientras que lista2 contiene \n",
    "cuatro elementos, a saber: \"Fulano\",\"Zutano\", \"Perengano\", \"Mengano\".\n",
    "\"\"\"\n",
    "tamano_lista1 = len(lista1)\n",
    "tamano_lista2 = len(lista2)\n",
    "print(\"Elementos lista1=\" + str(tamano_lista1),\n",
    "      \"Elementos lista2=\" + str(tamano_lista2))"
   ]
  },
  {
   "cell_type": "code",
   "execution_count": 22,
   "metadata": {},
   "outputs": [
    {
     "data": {
      "text/plain": [
       "[0, 1, 2, 3, 4, 5, 6, 7, 8, 9]"
      ]
     },
     "execution_count": 22,
     "metadata": {},
     "output_type": "execute_result"
    }
   ],
   "source": [
    "range(tamano_lista1)"
   ]
  },
  {
   "cell_type": "code",
   "execution_count": 23,
   "metadata": {},
   "outputs": [],
   "source": [
    "\"\"\"\n",
    "La función range(Número) crea una lista con una serie de n elementos, \n",
    "empezando en cero. Por ejemplo, el tamaño de la lista2 se almacenó en \n",
    "tamano_lista2, y con el tamano_lista2 se creo la lista serie_lista2.\n",
    "\"\"\"\n",
    "serie_lista2 = range(tamano_lista2)"
   ]
  },
  {
   "cell_type": "code",
   "execution_count": 24,
   "metadata": {},
   "outputs": [
    {
     "data": {
      "text/plain": [
       "[0, 1, 2, 3]"
      ]
     },
     "execution_count": 24,
     "metadata": {},
     "output_type": "execute_result"
    }
   ],
   "source": [
    "serie_lista2"
   ]
  },
  {
   "cell_type": "code",
   "execution_count": 28,
   "metadata": {},
   "outputs": [
    {
     "data": {
      "text/plain": [
       "[1, 2, 3, 4, 5, 6, 7, 8, 9]"
      ]
     },
     "execution_count": 28,
     "metadata": {},
     "output_type": "execute_result"
    }
   ],
   "source": [
    "\"\"\"\n",
    "También la funcion range() puede crear series considerando un punto inicial \n",
    "y final, más un tamaño de paso\n",
    "\n",
    "SINTAXIS\n",
    "\n",
    "range(punto_inicial, punto_final, tamaño de paso)\n",
    "\n",
    "El siguiente ejemplo crea una lista con una serie que inicia en 1 y termina \n",
    "en 9, no considera al 10, el tamaño de paso es 1.\n",
    "\"\"\"\n",
    "\n",
    "range(1,10,1)"
   ]
  },
  {
   "cell_type": "code",
   "execution_count": 31,
   "metadata": {},
   "outputs": [
    {
     "data": {
      "text/plain": [
       "[10, 9, 8, 7, 6, 5, 4, 3, 2]"
      ]
     },
     "execution_count": 31,
     "metadata": {},
     "output_type": "execute_result"
    }
   ],
   "source": [
    "\"\"\"\n",
    "También se puede ir en en sentido contrario, por ejemplo, que inicie en 10 y \n",
    "terminen en 1, con un decremento de -1.\n",
    "\"\"\"\n",
    "range(10,1,-1)"
   ]
  },
  {
   "cell_type": "code",
   "execution_count": 30,
   "metadata": {},
   "outputs": [
    {
     "name": "stdout",
     "output_type": "stream",
     "text": [
      "1\n",
      "2\n",
      "3\n",
      "4\n",
      "5\n",
      "6\n",
      "7\n",
      "8\n",
      "9\n"
     ]
    }
   ],
   "source": [
    "\"\"\"\n",
    "En este ejemplo se utiliza la función range junto con el ciclo for\n",
    "\"\"\"\n",
    "\n",
    "for i in range(1,10,1):\n",
    "    print i"
   ]
  },
  {
   "cell_type": "markdown",
   "metadata": {},
   "source": [
    "### Ejemplo de ciclo for con tuplas.\n",
    "\n",
    "Funciona igual que con listas, nada más que ahora se itera sobre una tupla."
   ]
  },
  {
   "cell_type": "code",
   "execution_count": 32,
   "metadata": {},
   "outputs": [
    {
     "name": "stdout",
     "output_type": "stream",
     "text": [
      "Fulano\n",
      "Zutano\n",
      "Perengano\n",
      "Mengano\n"
     ]
    }
   ],
   "source": [
    "tupla=(\"Fulano\",\"Zutano\", \"Perengano\", \"Mengano\")\n",
    "for i in tupla:\n",
    "    print i"
   ]
  },
  {
   "cell_type": "markdown",
   "metadata": {},
   "source": [
    "### Ejemplo de ciclo for con diccionarios."
   ]
  },
  {
   "cell_type": "code",
   "execution_count": 36,
   "metadata": {},
   "outputs": [
    {
     "name": "stdout",
     "output_type": "stream",
     "text": [
      "Nombre: Carbono\n",
      "Grupo: 12\n",
      "Masa_atomica: 12.0107\n",
      "Simbolo: C\n",
      "Serie: No metales\n"
     ]
    }
   ],
   "source": [
    "carbono = {\n",
    "    \"Nombre\": \"Carbono\",\n",
    "    \"Simbolo\" :\"C\",\n",
    "    \"Serie\" : \"No metales\",\n",
    "    \"Grupo\": \"12\",\n",
    "    \"Masa_atomica\":\"12.0107\"\n",
    "}\n",
    "clave = carbono.keys()\n",
    "valor = carbono.values()\n",
    "cantidad_datos = carbono.items()\n",
    "\n",
    "for clave, valor in cantidad_datos:\n",
    "    print clave + \": \" + valor"
   ]
  },
  {
   "cell_type": "markdown",
   "metadata": {},
   "source": [
    "### Ejemplo de ciclo for con la sentencia else."
   ]
  },
  {
   "cell_type": "code",
   "execution_count": 42,
   "metadata": {},
   "outputs": [
    {
     "name": "stdout",
     "output_type": "stream",
     "text": [
      "Zutano\n",
      "castillo\n",
      "Av. Juanda de Arco\n",
      "No 32\n",
      "Una vez que se termine de iterar sobre la tupla o lista,\n",
      "se ejecutan las instrucciones de la sentencia else, o bien,\n",
      "cuando la expresión condicional del ciclo for sea False\n"
     ]
    }
   ],
   "source": [
    "tupla_datos = \"Zutano\", \"castillo\", \"Av. Juanda de Arco\", \"No 32\"\n",
    "\n",
    "for generales in tupla_datos:\n",
    "    print generales\n",
    "else:\n",
    "    print (\"Una vez que se termine de iterar sobre la tupla o lista,\" )\n",
    "    print (\"se ejecutan las instrucciones de la sentencia else, o bien,\")\n",
    "    print (\"cuando la expresión condicional del ciclo for sea False\")\n",
    "    \n",
    "    \n",
    "    "
   ]
  },
  {
   "cell_type": "code",
   "execution_count": null,
   "metadata": {},
   "outputs": [],
   "source": []
  }
 ],
 "metadata": {
  "hide_input": false,
  "kernelspec": {
   "display_name": "Python 2",
   "language": "python",
   "name": "python2"
  },
  "language_info": {
   "codemirror_mode": {
    "name": "ipython",
    "version": 2
   },
   "file_extension": ".py",
   "mimetype": "text/x-python",
   "name": "python",
   "nbconvert_exporter": "python",
   "pygments_lexer": "ipython2",
   "version": "2.7.15"
  },
  "latex_envs": {
   "LaTeX_envs_menu_present": true,
   "autoclose": true,
   "autocomplete": true,
   "bibliofile": "biblio.bib",
   "cite_by": "apalike",
   "current_citInitial": 1,
   "eqLabelWithNumbers": true,
   "eqNumInitial": 1,
   "hotkeys": {
    "equation": "Ctrl-E",
    "itemize": "Ctrl-I"
   },
   "labels_anchors": false,
   "latex_user_defs": false,
   "report_style_numbering": true,
   "user_envs_cfg": false
  },
  "toc": {
   "base_numbering": 1,
   "nav_menu": {},
   "number_sections": true,
   "sideBar": true,
   "skip_h1_title": false,
   "title_cell": "Table of Contents",
   "title_sidebar": "Contents",
   "toc_cell": false,
   "toc_position": {},
   "toc_section_display": true,
   "toc_window_display": false
  }
 },
 "nbformat": 4,
 "nbformat_minor": 2
}
