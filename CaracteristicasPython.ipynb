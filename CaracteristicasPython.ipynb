{
 "cells": [
  {
   "cell_type": "markdown",
   "metadata": {},
   "source": [
    "# Características de Python\n",
    "\n",
    "Dentro de los **lenguajes informáticos**, Python, pertenece al grupo de los **lenguajes de\n",
    "programación** y puede ser clasificado como un **lenguaje interpretado**, de **alto nivel**,\n",
    "**multiplataforma**, de **tipado dinámico** y **multiparadigma**. A diferencia de la mayoría de\n",
    "los lenguajes de programación, Python nos provee de reglas de estilos, a fin de poder\n",
    "escribir código fuente más legible y de manera estandarizada.\n",
    "\n",
    "> **Lenguaje informático:** es un idioma artificial, utilizado por ordenadores, cuyo fin es\n",
    "transmitir información de algo a alguien. Los lenguajes informáticos, pueden\n",
    "clasificarse en: a) lenguajes de programación (Python, PHP, Pearl, C, etc.); b)\n",
    "lenguajes de especificación (UML); c) lenguajes de consulta (SQL); d) lenguajes de\n",
    "marcas (HTML, XML); e) lenguajes de transformación (XSLT); f) protocolos de\n",
    "comunicaciones (HTTP, FTP); entre otros.\n",
    "\n",
    "> **Lenguaje de programación:** es un lenguaje informático, diseñado para expresar\n",
    "órdenes e instrucciones precisas, que deben ser llevadas a cabo por una\n",
    "computadora. El mismo puede utilizarse para crear programas que controlen el\n",
    "comportamiento físico o lógico de un ordenador. Está compuesto por una serie de\n",
    "símbolos, reglas sintácticas y semánticas que definen la estructura del lenguaje.\n",
    "\n",
    "> **Lenguajes de alto nivel:** son aquellos cuya característica principal, consiste en una\n",
    "estructura sintáctica y semántica legible, acorde a las capacidades cognitivas\n",
    "humanas. A diferencia de los lenguajes de bajo nivel, son independientes de la\n",
    "arquitectura del hardware, motivo por el cual, asumen mayor portabilidad.\n",
    "\n",
    "> **Lenguajes interpretados:** a diferencia de los compilados, no requieren de un\n",
    "compilador para ser ejecutados sino de un intérprete. Un intérprete, actúa de manera\n",
    "casi idéntica a un compilador, con la salvedad de que ejecuta el programa\n",
    "directamente, sin necesidad de generar previamente un ejecutable. Ejemplo de\n",
    "lenguajes de programación interpretado son Python, PHP, Ruby, Lisp, entre otros.\n",
    "\n",
    "> **Tipado dinámico:** un lenguaje de tipado dinámico es aquel cuyas variables, no\n",
    "requieren ser definidas asignando su tipo de datos, sino que éste, se auto-asigna en\n",
    "tiempo de ejecución, según el valor declarado.\n",
    "\n",
    "> **Multiplataforma:** significa que puede ser interpretado en diversos Sistemas\n",
    "Operativos como GNU/Linux, Windows, Mac OS, Solaris, entre otros.\n",
    "\n",
    "> **Multiparadigma:** acepta diferentes paradigmas (técnicas) de programación, tales\n",
    "como la orientación a objetos, aspectos, la programación imperativa y funcional.\n",
    "\n",
    "> **Código fuente:** es un conjunto de instrucciones y órdenes lógicas, compuestos de\n",
    "algoritmos que se encuentran escritos en un determinado lenguaje de programación,\n",
    "las cuales deben ser interpretadas o compiladas, para permitir la ejecución del\n",
    "programa informático.\n",
    "\n",
    "```\n",
    "Fuente:Curso Python para Principiantes– Eugenia Bahit www.eugeniabahit.com/cursos2012 Comparte el conocimiento: Creative Commons Atribución-NoComercial-CompartirIgual 3.0.\n",
    "```"
   ]
  },
  {
   "cell_type": "code",
   "execution_count": null,
   "metadata": {},
   "outputs": [],
   "source": []
  }
 ],
 "metadata": {
  "kernelspec": {
   "display_name": "Python 2",
   "language": "python",
   "name": "python2"
  },
  "language_info": {
   "codemirror_mode": {
    "name": "ipython",
    "version": 2
   },
   "file_extension": ".py",
   "mimetype": "text/x-python",
   "name": "python",
   "nbconvert_exporter": "python",
   "pygments_lexer": "ipython2",
   "version": "2.7.15"
  },
  "latex_envs": {
   "LaTeX_envs_menu_present": true,
   "autoclose": true,
   "autocomplete": true,
   "bibliofile": "biblio.bib",
   "cite_by": "apalike",
   "current_citInitial": 1,
   "eqLabelWithNumbers": true,
   "eqNumInitial": 1,
   "hotkeys": {
    "equation": "Ctrl-E",
    "itemize": "Ctrl-I"
   },
   "labels_anchors": false,
   "latex_user_defs": false,
   "report_style_numbering": true,
   "user_envs_cfg": false
  },
  "toc": {
   "base_numbering": 1,
   "nav_menu": {},
   "number_sections": true,
   "sideBar": true,
   "skip_h1_title": false,
   "title_cell": "Table of Contents",
   "title_sidebar": "Contents",
   "toc_cell": false,
   "toc_position": {},
   "toc_section_display": true,
   "toc_window_display": false
  }
 },
 "nbformat": 4,
 "nbformat_minor": 2
}
