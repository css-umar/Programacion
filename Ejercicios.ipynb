{
 "cells": [
  {
   "cell_type": "markdown",
   "metadata": {},
   "source": [
    "# Ejercicios para resolver\n",
    "\n",
    "## Ejercicio 1:\n",
    "\n",
    "Escribir un programa para determinar si un número $n$ es primo, o un número compuesto. Recuerde que: \n",
    ">  Un número primo es un número natural mayor que 1 que tiene únicamente dos divisores distintos: él mismo y el 1. Por el contrario, los números compuestos son los números naturales que tienen algún divisor natural aparte de sí mismos y del 1, y, por lo tanto, pueden factorizarse. El número 1, por convenio, no se considera ni primo ni compuesto.\n",
    "\n",
    "**Ejemplo de números primos:**\n",
    "> 2, 3, 5, 7, 11, 13, 17, 19, 23, 29,...\n",
    "\n",
    "**Ejemplo de números compuestos:**\n",
    ">  4, 6, 8, 9, 10, 12, 14, 15, 16, 18,...\n",
    "\n",
    "\n",
    "## Ejercicio 2:\n",
    "\n",
    "Escriba un programa que verifique la siguiente proposición:\n",
    "\n",
    "$$ x^2+x+41\\, \\text{es primo cuando}\\,x\\, \\text{es entero positivo}$$\n",
    "\n",
    "**Ejemplo:** para cuando $x=1, 2, 3,\\ldots$ el resultado obtenido es primo.\n",
    "\n",
    "$$\n",
    "\\begin{align*}\n",
    "(1)^2+(1)+41 &=43\\\\\n",
    "(2)^2+(2)+41 &=47\\\\\n",
    "(3)^2+(3)+41 &=61\n",
    "\\end{align*}\n",
    "$$\n",
    "\n",
    "## Ejercicio 3:\n",
    "\n",
    "Escribir un programa que indique cuál es el número mayor de tres número introducidos por el usuario."
   ]
  },
  {
   "cell_type": "code",
   "execution_count": null,
   "metadata": {},
   "outputs": [],
   "source": []
  }
 ],
 "metadata": {
  "hide_input": false,
  "kernelspec": {
   "display_name": "Python 2",
   "language": "python",
   "name": "python2"
  },
  "language_info": {
   "codemirror_mode": {
    "name": "ipython",
    "version": 2
   },
   "file_extension": ".py",
   "mimetype": "text/x-python",
   "name": "python",
   "nbconvert_exporter": "python",
   "pygments_lexer": "ipython2",
   "version": "2.7.15"
  },
  "latex_envs": {
   "LaTeX_envs_menu_present": true,
   "autoclose": true,
   "autocomplete": true,
   "bibliofile": "biblio.bib",
   "cite_by": "apalike",
   "current_citInitial": 1,
   "eqLabelWithNumbers": true,
   "eqNumInitial": 1,
   "hotkeys": {
    "equation": "Ctrl-E",
    "itemize": "Ctrl-I"
   },
   "labels_anchors": false,
   "latex_user_defs": false,
   "report_style_numbering": true,
   "user_envs_cfg": false
  },
  "toc": {
   "base_numbering": 1,
   "nav_menu": {},
   "number_sections": true,
   "sideBar": true,
   "skip_h1_title": false,
   "title_cell": "Table of Contents",
   "title_sidebar": "Contents",
   "toc_cell": false,
   "toc_position": {},
   "toc_section_display": true,
   "toc_window_display": false
  }
 },
 "nbformat": 4,
 "nbformat_minor": 2
}
