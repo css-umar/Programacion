{
 "cells": [
  {
   "cell_type": "markdown",
   "metadata": {},
   "source": [
    "# Funciones\n",
    "\n",
    "1. Las funciones agrupan algoritmos (expresiones y sentencias).\n",
    "2. Sólo se ejecutan cuando son llamadas, es decir, cuando se hace una referencia a ella.\n",
    "3. Para llamar una función, simplemente se le llama por su nombre.\n",
    "4. Cuando una función, haga un retorno de datos, estos, pueden ser asignadaos a una variable.\n",
    "5. En Python se define una función mediante la instrucción _def_.\n",
    "\n",
    "> **Sintaxis para función sin argumentos**\n",
    "\n",
    ">```\n",
    "> def nombre_funcion():\n",
    ">     expresion_1\n",
    ">     expresion_2\n",
    ">     expresion_3\n",
    ">     expresion_n\n",
    ">```\n",
    "\n",
    "> **Sintaxis para función con argumentos**\n",
    "\n",
    ">```\n",
    "> def nombre_funcion(argumento_1, argumento_2,...,argumento_3):\n",
    ">     expresion_1\n",
    ">     expresion_2\n",
    ">     expresion_3\n",
    ">     expresion_n\n",
    ">     return expresion\n",
    ">```\n",
    "\n",
    ">> _Los argumentos son variables(locales) que pueden ser utilizados dentro de la misma función."
   ]
  },
  {
   "cell_type": "markdown",
   "metadata": {},
   "source": [
    "## Ejemplo de función sin argumentos"
   ]
  },
  {
   "cell_type": "code",
   "execution_count": 2,
   "metadata": {},
   "outputs": [],
   "source": [
    "\"\"\"\n",
    "Esta función solamente tiene la expresión print \"¿Qué pex?\" y no requiere de argumentos\n",
    "\"\"\"\n",
    "def saludo():    # saludo es el nombre de la función \n",
    "    print \"¿Qué pex?\"    # Las expresiones irán identadas por cuatro espacios\n"
   ]
  },
  {
   "cell_type": "code",
   "execution_count": 4,
   "metadata": {},
   "outputs": [
    {
     "name": "stdout",
     "output_type": "stream",
     "text": [
      "¿Qué pex?\n"
     ]
    }
   ],
   "source": [
    "\"\"\"\n",
    "Las funciones sólo se ejecutan cuando son llamadas, es decir, cuando se hace una referencia a ella\n",
    "\"\"\"\n",
    "saludo()  # Con esta expresión se está llamando a la función saludo, la cual no requiere argumentos."
   ]
  },
  {
   "cell_type": "code",
   "execution_count": 5,
   "metadata": {},
   "outputs": [],
   "source": [
    "\"\"\"\n",
    "Esta función hace un retorno de datos.\n",
    "La instrucción \"return\" sirve para indicar que devuelva datos, en este caso, la frase \"¿Qué pex?\"\n",
    "\"\"\"\n",
    "def saludo2():    \n",
    "    return \"¿Qué pex?\"    "
   ]
  },
  {
   "cell_type": "code",
   "execution_count": 6,
   "metadata": {},
   "outputs": [],
   "source": [
    "hola = saludo2()    # En la variable hola se guarda los datos que devuelve la función saludo2()"
   ]
  },
  {
   "cell_type": "code",
   "execution_count": 7,
   "metadata": {},
   "outputs": [
    {
     "name": "stdout",
     "output_type": "stream",
     "text": [
      "¿Qué pex?\n"
     ]
    }
   ],
   "source": [
    "print hola    # Aquí se está mostrando los datos que contiene la variable hola"
   ]
  },
  {
   "cell_type": "markdown",
   "metadata": {},
   "source": [
    "## Ejemplo de función con argumentos"
   ]
  },
  {
   "cell_type": "code",
   "execution_count": 8,
   "metadata": {},
   "outputs": [],
   "source": [
    "\"\"\"\n",
    "Esta función realiza la suma de dos numeros, para lo cual requiere de los argumentos a y b;\n",
    "donde a y b, son los dos numeros a sumar; la suma de a más b se almancena en la variable resultado,\n",
    "la cual posteriormente se regresa al usuario mediante la instrucción return.\n",
    "\"\"\"\n",
    "def suma(a,b):\n",
    "    resultado = a + b    # \"resultado\" es una variable local para uso exclusivo de la función\n",
    "    return resultado"
   ]
  },
  {
   "cell_type": "code",
   "execution_count": 9,
   "metadata": {},
   "outputs": [
    {
     "ename": "TypeError",
     "evalue": "suma() takes exactly 2 arguments (0 given)",
     "output_type": "error",
     "traceback": [
      "\u001b[1;31m---------------------------------------------------------------------------\u001b[0m",
      "\u001b[1;31mTypeError\u001b[0m                                 Traceback (most recent call last)",
      "\u001b[1;32m<ipython-input-9-1f6ae598e611>\u001b[0m in \u001b[0;36m<module>\u001b[1;34m()\u001b[0m\n\u001b[1;32m----> 1\u001b[1;33m \u001b[0msuma\u001b[0m\u001b[1;33m(\u001b[0m\u001b[1;33m)\u001b[0m\u001b[1;33m\u001b[0m\u001b[0m\n\u001b[0m",
      "\u001b[1;31mTypeError\u001b[0m: suma() takes exactly 2 arguments (0 given)"
     ]
    }
   ],
   "source": [
    "\"\"\"\n",
    "Al llamar a una función que requiere de argumentos, si el usuario no se los proporciona,\n",
    "Python mostrará un error.\n",
    "\"\"\"\n",
    "suma()"
   ]
  },
  {
   "cell_type": "code",
   "execution_count": 25,
   "metadata": {},
   "outputs": [
    {
     "data": {
      "text/plain": [
       "4"
      ]
     },
     "execution_count": 25,
     "metadata": {},
     "output_type": "execute_result"
    }
   ],
   "source": [
    "\"\"\"\n",
    "Con esta expresión se está llamando a la función suma, los valores para los argumentos a y b \n",
    "son 2 y 2 respectivamente.\n",
    "Al llamar a una función, siempre se le deben pasar sus argumentos en el mismo orden \n",
    "en el que fueron definidos.\n",
    "\"\"\"\n",
    "suma(2,2)\n"
   ]
  },
  {
   "cell_type": "code",
   "execution_count": 12,
   "metadata": {},
   "outputs": [
    {
     "data": {
      "text/plain": [
       "10"
      ]
     },
     "execution_count": 12,
     "metadata": {},
     "output_type": "execute_result"
    }
   ],
   "source": [
    "# Otra forma\n",
    "a, b = 5, 5\n",
    "suma(a,b)"
   ]
  },
  {
   "cell_type": "code",
   "execution_count": 13,
   "metadata": {},
   "outputs": [],
   "source": [
    "\"\"\"\n",
    "Aquí los datos que devuelve la función suma se almacena en la variable respuesta\n",
    "\"\"\"\n",
    "respuesta = suma(a,b)"
   ]
  },
  {
   "cell_type": "code",
   "execution_count": 15,
   "metadata": {},
   "outputs": [
    {
     "name": "stdout",
     "output_type": "stream",
     "text": [
      "10\n"
     ]
    }
   ],
   "source": [
    "print respuesta   # Aqui se muestra lo que contiene la variable respuesta"
   ]
  },
  {
   "cell_type": "code",
   "execution_count": 17,
   "metadata": {},
   "outputs": [],
   "source": [
    "\"\"\"\n",
    "No se puede acceder a variables locales, fuera de la función.\n",
    "\"\"\"\n",
    "def division(dividendo, divisor):\n",
    "    cociente = dividendo/divisor    # cociente es una variable local y es de uso exclusivo de la función \n",
    "    return cociente"
   ]
  },
  {
   "cell_type": "code",
   "execution_count": 18,
   "metadata": {},
   "outputs": [
    {
     "data": {
      "text/plain": [
       "5"
      ]
     },
     "execution_count": 18,
     "metadata": {},
     "output_type": "execute_result"
    }
   ],
   "source": [
    "dividendo, divisor = 10, 2\n",
    "division(dividendo, divisor)     # se llama a la función división"
   ]
  },
  {
   "cell_type": "code",
   "execution_count": null,
   "metadata": {},
   "outputs": [],
   "source": [
    "\"\"\"\n",
    "Cuando se intenta acceder a una variable local fuera de la función, python mostrará un error\n",
    "\"\"\"\n",
    "print cociente "
   ]
  },
  {
   "cell_type": "markdown",
   "metadata": {},
   "source": [
    "### Argumentos por omisión\n",
    "\n",
    "En Python se puede asignar valores por defecto a los argumentos de las funciones."
   ]
  },
  {
   "cell_type": "code",
   "execution_count": 26,
   "metadata": {},
   "outputs": [],
   "source": [
    "def potenciacion(base, exponente=2):\n",
    "    return base**exponente"
   ]
  },
  {
   "cell_type": "code",
   "execution_count": 28,
   "metadata": {},
   "outputs": [
    {
     "data": {
      "text/plain": [
       "4"
      ]
     },
     "execution_count": 28,
     "metadata": {},
     "output_type": "execute_result"
    }
   ],
   "source": [
    "potenciacion(2)"
   ]
  },
  {
   "cell_type": "code",
   "execution_count": 29,
   "metadata": {},
   "outputs": [
    {
     "data": {
      "text/plain": [
       "8"
      ]
     },
     "execution_count": 29,
     "metadata": {},
     "output_type": "execute_result"
    }
   ],
   "source": [
    "\"\"\"\n",
    "También es posible llamar a una función, pasándole los argumentos esperados, como pares \n",
    "de claves=valor:\n",
    "\"\"\"\n",
    "potenciacion(base=2, exponente=3)"
   ]
  },
  {
   "cell_type": "code",
   "execution_count": 31,
   "metadata": {},
   "outputs": [
    {
     "data": {
      "text/plain": [
       "16"
      ]
     },
     "execution_count": 31,
     "metadata": {},
     "output_type": "execute_result"
    }
   ],
   "source": [
    "\"\"\"\n",
    "Si se transfieren los argumentos por medio de pares claves=valor, no importa el orden en el que\n",
    "se hace. \n",
    "\"\"\"\n",
    "potenciacion(exponente=4,base=2)"
   ]
  },
  {
   "cell_type": "markdown",
   "metadata": {},
   "source": [
    "### Argumentos arbitrarios\n",
    "\n",
    "Es posible que una función espere recibir un número arbitrario de argumentos. Estos argumentos, llegarán a la función en forma de tupla.\n",
    "\n",
    "> **Sintaxis para función con argumentos arbitrarios**\n",
    "\n",
    ">```\n",
    "> def nombre_funcion(argumento_1, argumento_2,...,*argumento_arbitrario):\n",
    ">     expresion_1\n",
    ">     expresion_2\n",
    ">     expresion_3\n",
    ">     expresion_n\n",
    ">     return expresion\n",
    ">```\n",
    "\n",
    "Los argumentos arbitrarios, se anteceden con un asterisco y siempre deben suceder a los fijos."
   ]
  },
  {
   "cell_type": "code",
   "execution_count": 34,
   "metadata": {},
   "outputs": [],
   "source": [
    "\"\"\"\n",
    "La función func requiere de argumentos fijos y de arbitrarios, con print se está accediendo\n",
    "a los argumentos fijos. Mientras que con el ciclo for se acceden a los argumentos arbitrarios\n",
    "\"\"\"\n",
    "\n",
    "def func(argumento_fijo, *argumento_arbitrario):\n",
    "    print argumento_fijo\n",
    "    for i in argumento_arbitrario:\n",
    "        print i\n",
    "    \n"
   ]
  },
  {
   "cell_type": "code",
   "execution_count": 36,
   "metadata": {},
   "outputs": [
    {
     "name": "stdout",
     "output_type": "stream",
     "text": [
      "1\n",
      "2\n",
      "3\n",
      "4\n"
     ]
    }
   ],
   "source": [
    "func(1,2,3,4)    # Imprime el argumento fijo y arbitrarios"
   ]
  },
  {
   "cell_type": "code",
   "execution_count": 38,
   "metadata": {},
   "outputs": [
    {
     "name": "stdout",
     "output_type": "stream",
     "text": [
      "1\n",
      "dos\n",
      "3\n",
      "4\n",
      "5\n",
      "6\n",
      "7\n",
      "8\n",
      "nueve\n"
     ]
    }
   ],
   "source": [
    "func(1,\"dos\",3,4,5,6,7,8,\"nueve\")"
   ]
  },
  {
   "cell_type": "code",
   "execution_count": 39,
   "metadata": {},
   "outputs": [
    {
     "name": "stdout",
     "output_type": "stream",
     "text": [
      "1\n",
      "[2, 3, 4, 5, 6, 7, 8, 9]\n"
     ]
    }
   ],
   "source": [
    "lista_argumentos = [2,3,4,5,6,7,8,9]\n",
    "func(1,lista_argumentos)"
   ]
  },
  {
   "cell_type": "code",
   "execution_count": null,
   "metadata": {},
   "outputs": [],
   "source": []
  }
 ],
 "metadata": {
  "kernelspec": {
   "display_name": "Python 2",
   "language": "python",
   "name": "python2"
  },
  "language_info": {
   "codemirror_mode": {
    "name": "ipython",
    "version": 2
   },
   "file_extension": ".py",
   "mimetype": "text/x-python",
   "name": "python",
   "nbconvert_exporter": "python",
   "pygments_lexer": "ipython2",
   "version": "2.7.16"
  }
 },
 "nbformat": 4,
 "nbformat_minor": 2
}
