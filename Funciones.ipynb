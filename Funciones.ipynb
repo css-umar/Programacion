{
 "cells": [
  {
   "cell_type": "markdown",
   "metadata": {},
   "source": [
    "# Funciones\n",
    "\n",
    "1. Las funciones agrupan algoritmos (expresiones y sentencias).\n",
    "2. Sólo se ejecutan cuando son llamadas, es decir, cuando se hace una referencia a ella.\n",
    "3. Para llamar una función, simplemente se le llama por su nombre.\n",
    "4. Cuando una función, haga un retorno de datos, estos, pueden ser asignadaos a una variable.\n",
    "5. En Python se define una función mediante la instrucción _def_.\n",
    "\n",
    "> **Sintaxis para función sin parámetros**\n",
    "\n",
    ">```\n",
    "> def nombre_funcion():\n",
    ">     expresion_1\n",
    ">     expresion_2\n",
    ">     expresion_3\n",
    ">     expresion_n\n",
    ">```\n",
    "\n",
    "> **Sintaxis para función con parámetros**\n",
    "\n",
    ">```\n",
    "> def nombre_funcion(parametro_1, parametro_2,...,parametro_3):\n",
    ">     expresion_1\n",
    ">     expresion_2\n",
    ">     expresion_3\n",
    ">     expresion_n\n",
    ">     return expresion\n",
    ">```\n",
    "\n",
    ">> _Los parametro son variables(locales) que pueden ser utilizados dentro de la misma función.\n",
    "\n",
    "**Parámetros:** Son las variables listadas entre paréntesis en la definición de la función.\n",
    "\n",
    "**Argumento:** Es el valor que se envía a la función cuando se llama."
   ]
  },
  {
   "cell_type": "markdown",
   "metadata": {},
   "source": [
    "## Ejemplo de función sin parámetros"
   ]
  },
  {
   "cell_type": "code",
   "execution_count": 52,
   "metadata": {},
   "outputs": [],
   "source": [
    "\"\"\"\n",
    "Esta función solamente tiene la expresión print \"¿Qué pex?\" y no requiere de parámetros\n",
    "\"\"\"\n",
    "def saludo():    # saludo es el nombre de la función \n",
    "    print \"¿Qué pex?\"    # Las expresiones irán identadas por cuatro espacios\n"
   ]
  },
  {
   "cell_type": "code",
   "execution_count": 53,
   "metadata": {},
   "outputs": [
    {
     "name": "stdout",
     "output_type": "stream",
     "text": [
      "¿Qué pex?\n"
     ]
    }
   ],
   "source": [
    "\"\"\"\n",
    "Las funciones sólo se ejecutan cuando son llamadas, es decir, cuando se hace una referencia a ella\n",
    "\"\"\"\n",
    "saludo()  # Con esta expresión se está llamando a la función saludo, la cual no requiere parámetros."
   ]
  },
  {
   "cell_type": "code",
   "execution_count": 54,
   "metadata": {},
   "outputs": [],
   "source": [
    "\"\"\"\n",
    "Esta función hace un retorno de datos.\n",
    "La instrucción \"return\" sirve para indicar que devuelva datos, en este caso, la frase \"¿Qué pex?\"\n",
    "\"\"\"\n",
    "def saludo2():    \n",
    "    return \"¿Qué pex?\"    "
   ]
  },
  {
   "cell_type": "code",
   "execution_count": 55,
   "metadata": {},
   "outputs": [],
   "source": [
    "hola = saludo2()    # En la variable hola se guarda los datos que devuelve la función saludo2()"
   ]
  },
  {
   "cell_type": "code",
   "execution_count": 56,
   "metadata": {},
   "outputs": [
    {
     "name": "stdout",
     "output_type": "stream",
     "text": [
      "¿Qué pex?\n"
     ]
    }
   ],
   "source": [
    "print hola    # Aquí se está mostrando los datos que contiene la variable hola"
   ]
  },
  {
   "cell_type": "markdown",
   "metadata": {},
   "source": [
    "## Ejemplo de función con parámetros"
   ]
  },
  {
   "cell_type": "code",
   "execution_count": 57,
   "metadata": {},
   "outputs": [],
   "source": [
    "\"\"\"\n",
    "Esta función realiza la suma de dos numeros, para lo cual requiere de los parámetros a y b;\n",
    "donde a y b, son los dos numeros a sumar; la suma de a más b se almancena en la variable resultado,\n",
    "la cual posteriormente se regresa al usuario mediante la instrucción return.\n",
    "\"\"\"\n",
    "def suma(a,b):\n",
    "    resultado = a + b    # \"resultado\" es una variable local para uso exclusivo de la función\n",
    "    return resultado"
   ]
  },
  {
   "cell_type": "code",
   "execution_count": 58,
   "metadata": {},
   "outputs": [
    {
     "ename": "TypeError",
     "evalue": "suma() takes exactly 2 arguments (0 given)",
     "output_type": "error",
     "traceback": [
      "\u001b[1;31m---------------------------------------------------------------------------\u001b[0m",
      "\u001b[1;31mTypeError\u001b[0m                                 Traceback (most recent call last)",
      "\u001b[1;32m<ipython-input-58-3d1cf805e4d2>\u001b[0m in \u001b[0;36m<module>\u001b[1;34m()\u001b[0m\n\u001b[0;32m      3\u001b[0m \u001b[0mPython\u001b[0m \u001b[0mmostrar\u001b[0m\u001b[0;31má\u001b[0m \u001b[0mun\u001b[0m \u001b[0merror\u001b[0m\u001b[1;33m.\u001b[0m\u001b[1;33m\u001b[0m\u001b[0m\n\u001b[0;32m      4\u001b[0m \"\"\"\n\u001b[1;32m----> 5\u001b[1;33m \u001b[0msuma\u001b[0m\u001b[1;33m(\u001b[0m\u001b[1;33m)\u001b[0m\u001b[1;33m\u001b[0m\u001b[0m\n\u001b[0m",
      "\u001b[1;31mTypeError\u001b[0m: suma() takes exactly 2 arguments (0 given)"
     ]
    }
   ],
   "source": [
    "\"\"\"\n",
    "Al llamar a una función que requiere de parámetros, si el usuario no se los proporciona,\n",
    "Python mostrará un error.\n",
    "\"\"\"\n",
    "suma()"
   ]
  },
  {
   "cell_type": "code",
   "execution_count": 59,
   "metadata": {},
   "outputs": [
    {
     "data": {
      "text/plain": [
       "4"
      ]
     },
     "execution_count": 59,
     "metadata": {},
     "output_type": "execute_result"
    }
   ],
   "source": [
    "\"\"\"\n",
    "Con esta expresión se está llamando a la función suma, los argumentos para los parámetros a y b \n",
    "son 2 y 2 respectivamente.\n",
    "Al llamar a una función, siempre se le deben pasar sus argumentos en el mismo orden \n",
    "en el que fueron definidos los parámetros.\n",
    "\"\"\"\n",
    "suma(2,2)\n"
   ]
  },
  {
   "cell_type": "code",
   "execution_count": 60,
   "metadata": {},
   "outputs": [
    {
     "data": {
      "text/plain": [
       "10"
      ]
     },
     "execution_count": 60,
     "metadata": {},
     "output_type": "execute_result"
    }
   ],
   "source": [
    "# Otra forma\n",
    "a, b = 5, 5\n",
    "suma(a,b)"
   ]
  },
  {
   "cell_type": "code",
   "execution_count": 61,
   "metadata": {},
   "outputs": [],
   "source": [
    "\"\"\"\n",
    "Aquí los datos que devuelve la función suma se almacena en la variable respuesta\n",
    "\"\"\"\n",
    "respuesta = suma(a,b)"
   ]
  },
  {
   "cell_type": "code",
   "execution_count": 62,
   "metadata": {},
   "outputs": [
    {
     "name": "stdout",
     "output_type": "stream",
     "text": [
      "10\n"
     ]
    }
   ],
   "source": [
    "print respuesta   # Aqui se muestra lo que contiene la variable respuesta"
   ]
  },
  {
   "cell_type": "code",
   "execution_count": 63,
   "metadata": {},
   "outputs": [],
   "source": [
    "\"\"\"\n",
    "No se puede acceder a variables locales, fuera de la función.\n",
    "\"\"\"\n",
    "def division(dividendo, divisor):\n",
    "    cociente = dividendo/divisor    # cociente es una variable local y es de uso exclusivo de la función \n",
    "    return cociente"
   ]
  },
  {
   "cell_type": "code",
   "execution_count": 64,
   "metadata": {},
   "outputs": [
    {
     "data": {
      "text/plain": [
       "5"
      ]
     },
     "execution_count": 64,
     "metadata": {},
     "output_type": "execute_result"
    }
   ],
   "source": [
    "dividendo, divisor = 10, 2\n",
    "division(dividendo, divisor)     # se llama a la función división"
   ]
  },
  {
   "cell_type": "code",
   "execution_count": 65,
   "metadata": {},
   "outputs": [
    {
     "ename": "NameError",
     "evalue": "name 'cociente' is not defined",
     "output_type": "error",
     "traceback": [
      "\u001b[1;31m---------------------------------------------------------------------------\u001b[0m",
      "\u001b[1;31mNameError\u001b[0m                                 Traceback (most recent call last)",
      "\u001b[1;32m<ipython-input-65-63bf85abac24>\u001b[0m in \u001b[0;36m<module>\u001b[1;34m()\u001b[0m\n\u001b[0;32m      2\u001b[0m \u001b[0mCuando\u001b[0m \u001b[0mse\u001b[0m \u001b[0mintenta\u001b[0m \u001b[0macceder\u001b[0m \u001b[0ma\u001b[0m \u001b[0muna\u001b[0m \u001b[0mvariable\u001b[0m \u001b[0mlocal\u001b[0m \u001b[0mfuera\u001b[0m \u001b[0mde\u001b[0m \u001b[0mla\u001b[0m \u001b[0mfunci\u001b[0m\u001b[0;31mó\u001b[0m\u001b[0mn\u001b[0m\u001b[1;33m,\u001b[0m \u001b[0mpython\u001b[0m \u001b[0mmostrar\u001b[0m\u001b[0;31má\u001b[0m \u001b[0mun\u001b[0m \u001b[0merror\u001b[0m\u001b[1;33m\u001b[0m\u001b[0m\n\u001b[0;32m      3\u001b[0m \"\"\"\n\u001b[1;32m----> 4\u001b[1;33m \u001b[1;32mprint\u001b[0m \u001b[0mcociente\u001b[0m\u001b[1;33m\u001b[0m\u001b[0m\n\u001b[0m",
      "\u001b[1;31mNameError\u001b[0m: name 'cociente' is not defined"
     ]
    }
   ],
   "source": [
    "\"\"\"\n",
    "Cuando se intenta acceder a una variable local fuera de la función, python mostrará un error\n",
    "\"\"\"\n",
    "print cociente "
   ]
  },
  {
   "cell_type": "markdown",
   "metadata": {},
   "source": [
    "### Argumentos por omisión\n",
    "\n",
    "En Python se puede asignar argumentos por defecto a los parámetros de las funciones."
   ]
  },
  {
   "cell_type": "code",
   "execution_count": 66,
   "metadata": {},
   "outputs": [],
   "source": [
    "def potenciacion(base, exponente=2):\n",
    "    return base**exponente    # Recuerda que para elevar un número a una potencia se usa **"
   ]
  },
  {
   "cell_type": "code",
   "execution_count": 67,
   "metadata": {},
   "outputs": [
    {
     "data": {
      "text/plain": [
       "4"
      ]
     },
     "execution_count": 67,
     "metadata": {},
     "output_type": "execute_result"
    }
   ],
   "source": [
    "potenciacion(2)"
   ]
  },
  {
   "cell_type": "code",
   "execution_count": 68,
   "metadata": {},
   "outputs": [
    {
     "data": {
      "text/plain": [
       "8"
      ]
     },
     "execution_count": 68,
     "metadata": {},
     "output_type": "execute_result"
    }
   ],
   "source": [
    "\"\"\"\n",
    "También es posible llamar a una función, pasándole los argumentos esperados, como pares \n",
    "de claves=valor:\n",
    "\"\"\"\n",
    "potenciacion(base=2, exponente=3)"
   ]
  },
  {
   "cell_type": "code",
   "execution_count": 69,
   "metadata": {},
   "outputs": [
    {
     "data": {
      "text/plain": [
       "16"
      ]
     },
     "execution_count": 69,
     "metadata": {},
     "output_type": "execute_result"
    }
   ],
   "source": [
    "\"\"\"\n",
    "Si se transfieren los argumentos por medio de pares claves=valor, no importa el orden en el que\n",
    "se hace. \n",
    "\"\"\"\n",
    "potenciacion(exponente=4,base=2)"
   ]
  },
  {
   "cell_type": "markdown",
   "metadata": {},
   "source": [
    "### Parámetros arbitrarios\n",
    "\n",
    "Es posible que una función espere recibir un número arbitrario de parámetros. Estos parámetros, llegarán a la función en forma de tupla.\n",
    "\n",
    "> **Sintaxis para función con parámetros arbitrarios**\n",
    "\n",
    ">```\n",
    "> def nombre_funcion(argumento_1, argumento_2,...,*argumento_arbitrario):\n",
    ">     expresion_1\n",
    ">     expresion_2\n",
    ">     expresion_3\n",
    ">     expresion_n\n",
    ">     return expresion\n",
    ">```\n",
    "\n",
    "Los parámetros arbitrarios, se anteceden con un asterisco y siempre deben suceder a los fijos."
   ]
  },
  {
   "cell_type": "code",
   "execution_count": 83,
   "metadata": {},
   "outputs": [],
   "source": [
    "\"\"\"\n",
    "La función func requiere de parámetros fijos y de arbitrarios, con print se está accediendo\n",
    "a los parámetros fijos. Mientras que con el ciclo for se acceden a los parámetros arbitrarios\n",
    "\"\"\"\n",
    "\n",
    "def func(parametro_fijo, *parametro_arbitrario):\n",
    "    print parametro_fijo\n",
    "    for i in parametro_arbitrario:\n",
    "        print i\n",
    "    \n"
   ]
  },
  {
   "cell_type": "code",
   "execution_count": 84,
   "metadata": {},
   "outputs": [
    {
     "name": "stdout",
     "output_type": "stream",
     "text": [
      "Parametro fijo\n",
      "Parametro arbitrario 1\n",
      "...\n",
      "Parametro arbitrario n\n"
     ]
    }
   ],
   "source": [
    "# Imprime el argumento fijo  y arbitrarios \n",
    "func(\"Parametro fijo\",\"Parametro arbitrario 1\",\"...\",\"Parametro arbitrario n\")   "
   ]
  },
  {
   "cell_type": "code",
   "execution_count": 85,
   "metadata": {},
   "outputs": [
    {
     "name": "stdout",
     "output_type": "stream",
     "text": [
      "1\n",
      "dos\n",
      "3\n",
      "4\n",
      "5\n",
      "6\n",
      "7\n",
      "8\n",
      "nueve\n"
     ]
    }
   ],
   "source": [
    "\"\"\"\n",
    "Ahora con números y cadena de texto\n",
    "\"\"\"\n",
    "func(1,\"dos\",3,4,5,6,7,8,\"nueve\")"
   ]
  },
  {
   "cell_type": "code",
   "execution_count": 86,
   "metadata": {},
   "outputs": [],
   "source": [
    "\"\"\"\n",
    "Otra forma es utilizar listas, como en el siguiente ejemplo \n",
    "\"\"\"\n",
    "\n",
    "def funcion(parametro_fijo, lista):\n",
    "    print parametro_fijo\n",
    "    for i in lista:\n",
    "        print i   \n"
   ]
  },
  {
   "cell_type": "code",
   "execution_count": 87,
   "metadata": {},
   "outputs": [
    {
     "name": "stdout",
     "output_type": "stream",
     "text": [
      "1\n",
      "2\n",
      "3\n",
      "4\n",
      "5\n",
      "6\n",
      "7\n",
      "8\n",
      "9\n"
     ]
    }
   ],
   "source": [
    "lista_argumentos = [2,3,4,5,6,7,8,9]\n",
    "\n",
    "funcion(1,lista_argumentos)\n"
   ]
  },
  {
   "cell_type": "code",
   "execution_count": 88,
   "metadata": {},
   "outputs": [
    {
     "name": "stdout",
     "output_type": "stream",
     "text": [
      "1\n",
      "2\n",
      "3\n",
      "4\n",
      "5\n",
      "6\n",
      "7\n",
      "8\n",
      "9\n"
     ]
    }
   ],
   "source": [
    "funcion(1,[2,3,4,5,6,7,8,9])"
   ]
  },
  {
   "cell_type": "markdown",
   "metadata": {},
   "source": [
    "### Empaquetado de argumentos\n",
    "\n",
    "También es posible empaquetar los argumentos en una lista o tupla. Como ejemplo vamos a retomar la función potenciacion que previamente ya fue creada. Esta funcion requiere de dos parametro, la base y el exponente.  "
   ]
  },
  {
   "cell_type": "code",
   "execution_count": 76,
   "metadata": {},
   "outputs": [],
   "source": [
    "\"\"\"\n",
    "Para empaquetar los argumentos vamos a utilizar una lista, a la cual vamos a llamar datos:\n",
    "\"\"\"\n",
    "datos = [2,3]    # Lista con los argumentos"
   ]
  },
  {
   "cell_type": "code",
   "execution_count": 77,
   "metadata": {},
   "outputs": [
    {
     "data": {
      "text/plain": [
       "8"
      ]
     },
     "execution_count": 77,
     "metadata": {},
     "output_type": "execute_result"
    }
   ],
   "source": [
    "\"\"\"\n",
    "Para desempaquetar los argumentos en la función, al nombre de la lista se le debe \n",
    "anteponer un asterisco(*)\n",
    "\"\"\"\n",
    "potenciacion(*datos)"
   ]
  },
  {
   "cell_type": "code",
   "execution_count": 78,
   "metadata": {},
   "outputs": [
    {
     "data": {
      "text/plain": [
       "8"
      ]
     },
     "execution_count": 78,
     "metadata": {},
     "output_type": "execute_result"
    }
   ],
   "source": [
    "\"\"\"\n",
    "Comparando los métodos...\n",
    "Empaquetado de argumentos y Clave=Valor, ambos métodos arrojan resultados similares\n",
    "\"\"\"\n",
    "potenciacion(base=2, exponente=3)"
   ]
  },
  {
   "cell_type": "code",
   "execution_count": 79,
   "metadata": {},
   "outputs": [],
   "source": [
    "\"\"\"\n",
    "Cuando los argumentos están contenidos en un diccionario, se deberán pasar a la función con el \n",
    "nombre del diccionario precedido de dos asteriscos (**).\n",
    "\"\"\"\n",
    "datos_dic = {\"base\":2, \"exponente\":3}    # Diccionario con los argumentos"
   ]
  },
  {
   "cell_type": "code",
   "execution_count": 80,
   "metadata": {},
   "outputs": [
    {
     "data": {
      "text/plain": [
       "8"
      ]
     },
     "execution_count": 80,
     "metadata": {},
     "output_type": "execute_result"
    }
   ],
   "source": [
    "potenciacion(**datos_dic)"
   ]
  },
  {
   "cell_type": "markdown",
   "metadata": {},
   "source": [
    "## Funciones anónimas (lambda)\n",
    "\n",
    "Caracteristicas de la función lambda:\n",
    "\n",
    "+ Puede tomar varios parámetros, pero solamente puede regresar una expresión o resultado.\n",
    "+ Se puden usar dentro de otras funciones.\n",
    "+ No es necesario declarar un _return_, siempre devuelven una sola expresión.\n",
    "+ Se usan cuando se requiere una función para un periodo de tiempo corto.\n",
    "\n",
    "> **Sintaxis para la función lambda**\n",
    "\n",
    ">```\n",
    ">nombre_funcion = lambda parametro_1, parametro_2,...,parametro_n: expresión\n",
    ">```\n"
   ]
  },
  {
   "cell_type": "code",
   "execution_count": 89,
   "metadata": {},
   "outputs": [],
   "source": [
    "\"\"\"\n",
    "Retomando la función \"suma\" creada previamente, la cual realiza la suma de dos (a y b) números reales\n",
    "cualesquiera:\n",
    "\n",
    "def suma(a,b):\n",
    "    resultado = a + b  \n",
    "    return resultado\n",
    "\n",
    "Utilizando función lambda queda de la forma siguiente...\n",
    "\"\"\"\n",
    "\n",
    "suma = lambda a, b: a + b\n"
   ]
  },
  {
   "cell_type": "code",
   "execution_count": 90,
   "metadata": {},
   "outputs": [
    {
     "data": {
      "text/plain": [
       "4"
      ]
     },
     "execution_count": 90,
     "metadata": {},
     "output_type": "execute_result"
    }
   ],
   "source": [
    "\"\"\"\n",
    "Llamando a la función suma creada con lambda.\n",
    "\"\"\"\n",
    "suma(2,2)"
   ]
  },
  {
   "cell_type": "code",
   "execution_count": null,
   "metadata": {},
   "outputs": [],
   "source": []
  }
 ],
 "metadata": {
  "kernelspec": {
   "display_name": "Python 2",
   "language": "python",
   "name": "python2"
  },
  "language_info": {
   "codemirror_mode": {
    "name": "ipython",
    "version": 2
   },
   "file_extension": ".py",
   "mimetype": "text/x-python",
   "name": "python",
   "nbconvert_exporter": "python",
   "pygments_lexer": "ipython2",
   "version": "2.7.16"
  }
 },
 "nbformat": 4,
 "nbformat_minor": 2
}
