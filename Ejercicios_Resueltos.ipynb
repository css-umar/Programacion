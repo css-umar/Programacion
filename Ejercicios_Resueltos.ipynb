{
 "cells": [
  {
   "cell_type": "markdown",
   "metadata": {},
   "source": [
    "# Ejercicios Resueltos\n",
    "\n",
    "## Ejercicio 1: \n",
    "Escribir un programa que verifique la siguiente proposición:\n",
    "\n",
    "$$1+2+3+4+5+\\ldots+n-1+n = \\dfrac{(n)(n+1)}{2}$$\n",
    "\n",
    "Para todo entero $n \\geq 1$.\n",
    "\n",
    "**Ejemplo:** Hay que comprobar que se cumpla la igualdad para $n=1$, para $n=2$ y para $n=3$, se tiene que:\n",
    "\n",
    "$$\n",
    "\\begin{align*} \n",
    "\\dfrac{(1)(1+1)}{2} &= 1 \\\\ \n",
    "\\dfrac{(2)(2+1)}{2} &= 3 = 1 + 2\\\\\n",
    "\\dfrac{(3)(3+1)}{2} &= 6 = 1 + 2 + 3\n",
    "\\end{align*}\n",
    "$$\n",
    "\n",
    "**¿Qué datos se requieren para resolver el problema?**\n",
    "\n",
    "> R. Se requiere del número $n$.\n",
    "\n",
    "**¿Qué tipo de datos es?**\n",
    "\n",
    "> R. Es del tipo entero, _int_.\n",
    "\n",
    "**¿Qué tipo de operador se va a utilizar?**\n",
    "\n",
    "> R. Se va a utilizar el operador relacional, ==.\n",
    "\n",
    "**Seudocódigo**\n",
    "\n",
    "~~~\n",
    "Algoritmo Ejercicio_1\n",
    "\tEscribir \"Introduce el entero n\"\n",
    "\tLeer n\n",
    "\tsuma <- 0\n",
    "\tPara i <- 1 Hasta n Con Paso 1 Hacer\n",
    "\t\tsuma <- suma + i\n",
    "\tFin Para\n",
    "\t\n",
    "\tproposicion <- (n^2+n)/2\n",
    "\t\n",
    "\tSi proposicion == suma Entonces\n",
    "\t\tEscribir \"La proposición es verdadera\"\n",
    "\t\tEscribir \"(n)(n+1)/2 = \", suma\n",
    "\tSiNo\n",
    "\t\tEscribir \"La proposición es falsa\"\n",
    "\tFin Si\n",
    "\t\n",
    "FinAlgoritmo\n",
    "~~~"
   ]
  },
  {
   "cell_type": "code",
   "execution_count": 3,
   "metadata": {},
   "outputs": [
    {
     "name": "stdout",
     "output_type": "stream",
     "text": [
      "Introduce el entero n\n",
      "3\n",
      "La proposición es verdadera\n",
      "(n)(n+1)/2=6\n"
     ]
    }
   ],
   "source": [
    "# Código python\n",
    "print \"Introduce el entero n\"\n",
    "\"\"\"\n",
    "La función raw_input() retorna una línea de la entrada del usuario tal cual, \n",
    "en crudo y retorna siempre una cadena de caracteres, un objeto str (ASCII) \n",
    "conteniendo lo introducido.\n",
    "\n",
    "La función int() convierte el objeto str a un dato del tipo entero.\n",
    "\"\"\"\n",
    "n = int(raw_input())\n",
    "suma = 0\n",
    "\"\"\"\n",
    "Hay que recordar que la función range(punto_inicial, punto_final, paso) no \n",
    "considera el punto final de la serie, por ello, hay que sumar 1 a n.\n",
    "\"\"\"\n",
    "for i in range(1,n+1,1):\n",
    "    suma = suma + i\n",
    "\n",
    "proposicion = (n**2 + n)/2\n",
    "\n",
    "if proposicion == suma:\n",
    "    print \"La proposición es verdadera\"\n",
    "    print \"(n)(n+1)/2=\" + str(suma)\n",
    "else:\n",
    "    print \"La proposición es falsa\"\n"
   ]
  },
  {
   "cell_type": "markdown",
   "metadata": {},
   "source": [
    "## Ejercicio 2:\n",
    "\n",
    "Escribir un programa que verifique que para todo entero $n \\geq 4$:\n",
    "\n",
    "$$n! > 2^n$$\n",
    "\n",
    "**Ejemplo:** Hay que comprobar que se cumpla la desigualdad, por ejemplo, para $n = 4$ y  para $n = 5$ se tiene que:\n",
    "\n",
    "$$\n",
    "\\begin{align*} \n",
    "4! &= 2^4 \\\\ \n",
    "(1)(2)(3)(4) &= 2^4\\\\\n",
    "24 &= 16 \n",
    "\\end{align*}\n",
    "$$\n",
    "\n",
    "$$\n",
    "\\begin{align*} \n",
    "5! &= 2^5 \\\\ \n",
    "(1)(2)(3)(4)(5) &= 2^5\\\\\n",
    "120 &= 32 \n",
    "\\end{align*}\n",
    "$$\n",
    "\n",
    "**¿Qué datos se requieren para resolver el problema?**\n",
    "\n",
    "> R. Se requiere del número $n > 4$.\n",
    "\n",
    "**¿Qué tipo de datos es?**\n",
    "\n",
    "> R. Es del tipo entero, _int_.\n",
    "\n",
    "**¿Qué tipo de operador se va a utilizar?**\n",
    "\n",
    "> R. Se va a utilizar el operador relacional, >.\n",
    "\n",
    "**Seudocódigo**\n",
    "~~~\n",
    "Algoritmo Ejercicio_1\n",
    "\tEscribir \"Introduce el entero n > 4\"\n",
    "\tLeer n\n",
    "\tfactorial <- 1\n",
    "\tPara i <- 1 Hasta n Con Paso 1 Hacer\n",
    "\t\tfactorial <- factorial * i\n",
    "\tFin Para\n",
    "\t\n",
    "\tpotencia <- 2^n\n",
    "\t\n",
    "\tSi factorial > potencia Entonces\n",
    "\t\tEscribir \"La proposición es verdadera\"\n",
    "\t\tEscribir \" n! = \", factorial\n",
    "\t\tEscribir \"2^n =\",potencia\t\t\n",
    "\tSiNo\n",
    "\t\tEscribir \"La proposición es falsa\"\n",
    "\tFin Si\t\n",
    "FinAlgoritmo\n",
    "~~~"
   ]
  },
  {
   "cell_type": "code",
   "execution_count": 6,
   "metadata": {},
   "outputs": [
    {
     "name": "stdout",
     "output_type": "stream",
     "text": [
      "Introduce el entero n > 4\n",
      "5\n",
      "La proposición es verdadera\n"
     ]
    }
   ],
   "source": [
    "# Código python\n",
    "print \"Introduce el entero n > 4\"\n",
    "n = int(raw_input())\n",
    "\n",
    "factorial = 1\n",
    "\n",
    "for i in range(1,n+1):\n",
    "    factorial = factorial * 1\n",
    "\n",
    "potencia = 2**n\n",
    "\n",
    "if factorial > potencia:\n",
    "    print \"La proposición es verdadera\"\n",
    "    print \"n! = \" + str(factorial)\n",
    "    print \"2^n = \" + str(potencia)\n",
    "else:\n",
    "    print \"La proposición es verdadera\""
   ]
  },
  {
   "attachments": {
    "Ejercicio3_Resuelto.png": {
     "image/png": "[encoded data removed]"
    }
   },
   "cell_type": "markdown",
   "metadata": {},
   "source": [
    "## Ejercicio 3:\n",
    "\n",
    "Traduzca el siguiente diagrama de flujo y seudocódigo a python.\n",
    "\n",
    "![Ejercicio3_Resuelto.png](attachment:Ejercicio3_Resuelto.png)\n",
    "\n",
    "~~~\n",
    "Algoritmo Ejercicio_3\n",
    "\tEscribir \"¿Usted se considera joven?\"\n",
    "\tLeer respuesta1\n",
    "\tSi respuesta1 == \"si\" Entonces\n",
    "\t\tEscribir \"¿Tiene un buen sistema inmune?\"\n",
    "\t\tLeer respuesta2\n",
    "\t\tSi respuesta2 == \"si\" Entonces\n",
    "\t\t\tEscribir \"¡No sea tonto! Puede transmitir el virus\"\n",
    "\t\t\tEscribir \"¡Quédate en tu casa!\"\t\t\t\n",
    "\t\tSiNo\n",
    "\t\t\tEscribir \"¡Quédate en tu casa!\"\n",
    "\t\tFin Si\n",
    "\tSiNo\n",
    "\t\tEscribir \"¡Quédate en tu casa!\"\t\t\n",
    "\tFin Si\n",
    "\t\n",
    "FinAlgoritmo\n",
    "~~~"
   ]
  },
  {
   "cell_type": "code",
   "execution_count": 12,
   "metadata": {},
   "outputs": [
    {
     "name": "stdout",
     "output_type": "stream",
     "text": [
      "¿Usted se considera joven?\n",
      "si\n",
      "¿Tiene un buen sistema inmune?\n",
      "si\n",
      "¡No sea tonto! Puede transmitir el virus\n",
      "¡Quedáte en casa!\n"
     ]
    }
   ],
   "source": [
    "# Código python\n",
    "print \"¿Usted se considera joven?\"\n",
    "respuesta1 = str(raw_input())\n",
    "if respuesta1 == \"si\":\n",
    "    print \"¿Tiene un buen sistema inmune?\"\n",
    "    respuesta2 = str(raw_input())\n",
    "    if respuesta2 == \"si\":\n",
    "        print \"¡No sea tonto! Puede transmitir el virus\"\n",
    "        print \"¡Quedáte en casa!\"\n",
    "    else:\n",
    "        print \"¡Quedáte en casa!\"\n",
    "else:\n",
    "    print \"¡Quedáte en casa!\""
   ]
  },
  {
   "cell_type": "code",
   "execution_count": null,
   "metadata": {},
   "outputs": [],
   "source": []
  }
 ],
 "metadata": {
  "hide_input": false,
  "kernelspec": {
   "display_name": "Python 2",
   "language": "python",
   "name": "python2"
  },
  "language_info": {
   "codemirror_mode": {
    "name": "ipython",
    "version": 2
   },
   "file_extension": ".py",
   "mimetype": "text/x-python",
   "name": "python",
   "nbconvert_exporter": "python",
   "pygments_lexer": "ipython2",
   "version": "2.7.15"
  },
  "latex_envs": {
   "LaTeX_envs_menu_present": true,
   "autoclose": true,
   "autocomplete": true,
   "bibliofile": "biblio.bib",
   "cite_by": "apalike",
   "current_citInitial": 1,
   "eqLabelWithNumbers": true,
   "eqNumInitial": 1,
   "hotkeys": {
    "equation": "Ctrl-E",
    "itemize": "Ctrl-I"
   },
   "labels_anchors": false,
   "latex_user_defs": false,
   "report_style_numbering": true,
   "user_envs_cfg": false
  },
  "toc": {
   "base_numbering": 1,
   "nav_menu": {},
   "number_sections": true,
   "sideBar": true,
   "skip_h1_title": false,
   "title_cell": "Table of Contents",
   "title_sidebar": "Contents",
   "toc_cell": false,
   "toc_position": {},
   "toc_section_display": true,
   "toc_window_display": false
  }
 },
 "nbformat": 4,
 "nbformat_minor": 2
}
